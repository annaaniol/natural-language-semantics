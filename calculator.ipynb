{
 "cells": [
  {
   "cell_type": "code",
   "execution_count": 76,
   "metadata": {},
   "outputs": [],
   "source": [
    "from pypeg2 import *"
   ]
  },
  {
   "cell_type": "code",
   "execution_count": 77,
   "metadata": {},
   "outputs": [],
   "source": [
    "numberMap = {\n",
    "    \"zero\": \"0\",\n",
    "    \"jeden\": \"1\",\n",
    "    \"dwa\": \"2\",\n",
    "    \"trzy\": \"3\",\n",
    "    \"cztery\": \"4\",\n",
    "    \"pięć\": \"5\",\n",
    "    \"sześć\": \"6\",\n",
    "    \"siedem\": \"7\",\n",
    "    \"osiem\": \"8\",\n",
    "    \"dziewięć\": \"9\"\n",
    "}"
   ]
  },
  {
   "cell_type": "code",
   "execution_count": 78,
   "metadata": {},
   "outputs": [],
   "source": [
    "operatorMap = {\n",
    "    \"plus\": \"+\",\n",
    "    \"minus\": \"-\",\n",
    "    \"razy\": \"*\",\n",
    "    \"przez\": \"/\"\n",
    "}"
   ]
  },
  {
   "cell_type": "code",
   "execution_count": 79,
   "metadata": {},
   "outputs": [],
   "source": [
    "class Number:\n",
    "    grammar = name()"
   ]
  },
  {
   "cell_type": "code",
   "execution_count": 80,
   "metadata": {},
   "outputs": [],
   "source": [
    "class Expression(List):\n",
    "    grammar = attr(\"firstNumber\", Number), name(), attr(\"secondNumber\", Number)"
   ]
  },
  {
   "cell_type": "code",
   "execution_count": 82,
   "metadata": {},
   "outputs": [],
   "source": [
    "def getValue(n):\n",
    "    return numberMap.get(n.name)"
   ]
  },
  {
   "cell_type": "code",
   "execution_count": 83,
   "metadata": {},
   "outputs": [],
   "source": [
    "def getOperator(o):\n",
    "    return operatorMap.get(o)"
   ]
  },
  {
   "cell_type": "code",
   "execution_count": 84,
   "metadata": {},
   "outputs": [],
   "source": [
    "def evaluate(e):\n",
    "    num1 = getValue(e.firstNumber)\n",
    "    op = getOperator(e.name)\n",
    "    num2 = getValue(e.secondNumber)\n",
    "    return eval(num1+op+num2)"
   ]
  },
  {
   "cell_type": "code",
   "execution_count": 86,
   "metadata": {},
   "outputs": [
    {
     "data": {
      "text/plain": [
       "2"
      ]
     },
     "execution_count": 86,
     "metadata": {},
     "output_type": "execute_result"
    }
   ],
   "source": [
    "e = parse(\"cztery minus dwa\", Expression)\n",
    "\n",
    "evaluate(e)"
   ]
  },
  {
   "cell_type": "code",
   "execution_count": null,
   "metadata": {},
   "outputs": [],
   "source": []
  }
 ],
 "metadata": {
  "kernelspec": {
   "display_name": "Python 3",
   "language": "python",
   "name": "python3"
  },
  "language_info": {
   "codemirror_mode": {
    "name": "ipython",
    "version": 3
   },
   "file_extension": ".py",
   "mimetype": "text/x-python",
   "name": "python",
   "nbconvert_exporter": "python",
   "pygments_lexer": "ipython3",
   "version": "3.6.4"
  }
 },
 "nbformat": 4,
 "nbformat_minor": 2
}
