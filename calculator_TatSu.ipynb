{
 "cells": [
  {
   "cell_type": "code",
   "execution_count": 294,
   "metadata": {},
   "outputs": [],
   "source": [
    "import pprint\n",
    "from tatsu import parse"
   ]
  },
  {
   "cell_type": "code",
   "execution_count": 308,
   "metadata": {},
   "outputs": [],
   "source": [
    "GRAMMAR = '''\n",
    "    start = expression $ ;\n",
    "\n",
    "    expression\n",
    "        =\n",
    "        | expression expOperator term\n",
    "        | term\n",
    "        | trash expression\n",
    "        ;\n",
    "\n",
    "    trash = /\\w+/;\n",
    "    \n",
    "    term\n",
    "        =\n",
    "        | term termOperator factor\n",
    "        | factor\n",
    "        | trash term\n",
    "        ;\n",
    "\n",
    "    factor\n",
    "        = number\n",
    "        ;\n",
    "\n",
    "    number \n",
    "        = /\\d+/ \n",
    "        ;\n",
    "    \n",
    "    expOperator\n",
    "        =\n",
    "        | plusOperator\n",
    "        | minusOperator\n",
    "        | trash expOperator\n",
    "        ;\n",
    "        \n",
    "    termOperator\n",
    "        =\n",
    "        | multipleOperator\n",
    "        | divisionOperator\n",
    "        | trash termOperator\n",
    "        ;\n",
    "        \n",
    "    plusOperator\n",
    "        =\n",
    "        | 'plus'\n",
    "        | 'dodać'\n",
    "        ;\n",
    "    \n",
    "    minusOperator\n",
    "        =\n",
    "        | 'minus'\n",
    "        | 'odjąć'\n",
    "        ;\n",
    "        \n",
    "    multipleOperator\n",
    "        = 'razy'\n",
    "        ;\n",
    "    \n",
    "    divisionOperator\n",
    "        =\n",
    "        | 'przez'\n",
    "        | 'dzielone przez'\n",
    "        | 'nad'\n",
    "        ;\n",
    "        \n",
    "'''"
   ]
  },
  {
   "cell_type": "code",
   "execution_count": 309,
   "metadata": {},
   "outputs": [
    {
     "name": "stdout",
     "output_type": "stream",
     "text": [
      "# PPRINT\n",
      "[ 'policz',\n",
      "  [ 'proszę',\n",
      "    [ [ '5',\n",
      "        'razy',\n",
      "        '3'],\n",
      "      [ 'i',\n",
      "        [ 'dodać',\n",
      "          [ '88',\n",
      "            'razy']]],\n",
      "      '2']]]\n",
      "\n"
     ]
    }
   ],
   "source": [
    "expression = 'policz proszę 5 razy 3 i dodać 88 razy 2'\n",
    "\n",
    "parsedExpression = parse(GRAMMAR, expression)\n",
    "print('# PPRINT')\n",
    "pprint.pprint(parsedExpression, indent=2, width=20)\n",
    "print()"
   ]
  },
  {
   "cell_type": "code",
   "execution_count": 310,
   "metadata": {},
   "outputs": [],
   "source": [
    "operatorMap = {\n",
    "    \"plus\": \"+\",\n",
    "    \"dodać\": \"+\",\n",
    "    \"minus\": \"-\",\n",
    "    \"odjąć\": \"-\",\n",
    "    \"razy\": \"*\",\n",
    "    \"przez\": \"/\",\n",
    "    \"dzielone przez\": \"/\"\n",
    "}"
   ]
  },
  {
   "cell_type": "code",
   "execution_count": 311,
   "metadata": {},
   "outputs": [],
   "source": [
    "def process(e):\n",
    "    if e in ['+', '-', '*', '/']:\n",
    "        return e\n",
    "    if e.isdigit():\n",
    "        return e\n",
    "    if e in operatorMap.keys():\n",
    "        return operatorMap.get(e)\n",
    "    else:\n",
    "        return ''"
   ]
  },
  {
   "cell_type": "code",
   "execution_count": 312,
   "metadata": {},
   "outputs": [
    {
     "name": "stdout",
     "output_type": "stream",
     "text": [
      "evaluate: ['policz', ['proszę', [['5', 'razy', '3'], ['i', ['dodać', ['88', 'razy']]], '2']]]\n",
      "evaluate: ['proszę', [['5', 'razy', '3'], ['i', ['dodać', ['88', 'razy']]], '2']]\n",
      "evaluate: [['5', 'razy', '3'], ['i', ['dodać', ['88', 'razy']]], '2']\n",
      "evaluate: ['5', 'razy', '3']\n",
      "evaluate: ['i', ['dodać', ['88', 'razy']]]\n",
      "evaluate: ['dodać', ['88', 'razy']]\n",
      "evaluate: ['88', 'razy']\n"
     ]
    },
    {
     "data": {
      "text/plain": [
       "'5*3+88*2'"
      ]
     },
     "execution_count": 312,
     "metadata": {},
     "output_type": "execute_result"
    }
   ],
   "source": [
    "def evaluate(e):\n",
    "    result = ''\n",
    "    print('evaluate:', e)\n",
    "    for subexpression in e:\n",
    "        if type(subexpression) is not str:\n",
    "            partial = evaluate(subexpression)\n",
    "            result += partial\n",
    "        else:\n",
    "            result += process(subexpression)\n",
    "    return result\n",
    "        \n",
    "        \n",
    "evaluate(parsedExpression)"
   ]
  },
  {
   "cell_type": "code",
   "execution_count": 313,
   "metadata": {},
   "outputs": [
    {
     "name": "stdout",
     "output_type": "stream",
     "text": [
      "evaluate: ['policz', ['proszę', [['5', 'razy', '3'], ['i', ['dodać', ['88', 'razy']]], '2']]]\n",
      "evaluate: ['proszę', [['5', 'razy', '3'], ['i', ['dodać', ['88', 'razy']]], '2']]\n",
      "evaluate: [['5', 'razy', '3'], ['i', ['dodać', ['88', 'razy']]], '2']\n",
      "evaluate: ['5', 'razy', '3']\n",
      "evaluate: ['i', ['dodać', ['88', 'razy']]]\n",
      "evaluate: ['dodać', ['88', 'razy']]\n",
      "evaluate: ['88', 'razy']\n"
     ]
    },
    {
     "data": {
      "text/plain": [
       "191"
      ]
     },
     "execution_count": 313,
     "metadata": {},
     "output_type": "execute_result"
    }
   ],
   "source": [
    "eval(evaluate(parsedExpression))"
   ]
  },
  {
   "cell_type": "code",
   "execution_count": null,
   "metadata": {},
   "outputs": [],
   "source": []
  }
 ],
 "metadata": {
  "kernelspec": {
   "display_name": "Python 3",
   "language": "python",
   "name": "python3"
  },
  "language_info": {
   "codemirror_mode": {
    "name": "ipython",
    "version": 3
   },
   "file_extension": ".py",
   "mimetype": "text/x-python",
   "name": "python",
   "nbconvert_exporter": "python",
   "pygments_lexer": "ipython3",
   "version": "3.6.4"
  }
 },
 "nbformat": 4,
 "nbformat_minor": 2
}
