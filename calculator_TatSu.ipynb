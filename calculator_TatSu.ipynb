{
 "cells": [
  {
   "cell_type": "code",
   "execution_count": 42,
   "metadata": {},
   "outputs": [],
   "source": [
    "import pprint\n",
    "from tatsu import parse\n",
    "from tabulate import tabulate\n",
    "from IPython.display import HTML, display"
   ]
  },
  {
   "cell_type": "code",
   "execution_count": 9,
   "metadata": {},
   "outputs": [],
   "source": [
    "GRAMMAR = '''\n",
    "    start = expression $ ;\n",
    "    \n",
    "    trash = /\\w+/;\n",
    "\n",
    "    number \n",
    "        = /\\d+/ \n",
    "        ;\n",
    "        \n",
    "    factor\n",
    "        = number\n",
    "        ;\n",
    "\n",
    "    expression\n",
    "        =\n",
    "        | expression expOperator term\n",
    "        | trash term\n",
    "        | trash expression\n",
    "        ;\n",
    "    \n",
    "    term\n",
    "        =\n",
    "        | term termOperator factor\n",
    "        | factor\n",
    "        ;\n",
    "\n",
    "    expOperator\n",
    "        =\n",
    "        | plusOperator\n",
    "        | minusOperator\n",
    "        | trash expOperator\n",
    "        ;\n",
    "        \n",
    "    termOperator\n",
    "        =\n",
    "        | multiplicationOperator\n",
    "        | divisionOperator\n",
    "        | trash termOperator\n",
    "        ;\n",
    "        \n",
    "    plusOperator\n",
    "        =\n",
    "        | 'plus'\n",
    "        | 'dodać'\n",
    "        ;\n",
    "    \n",
    "    minusOperator\n",
    "        =\n",
    "        | 'minus'\n",
    "        | 'odjąć'\n",
    "        ;\n",
    "        \n",
    "    multiplicationOperator\n",
    "        = 'razy'\n",
    "        ;\n",
    "    \n",
    "    divisionOperator\n",
    "        =\n",
    "        | 'przez'\n",
    "        | 'dzielone przez'\n",
    "        | 'nad'\n",
    "        ;\n",
    "        \n",
    "'''"
   ]
  },
  {
   "cell_type": "code",
   "execution_count": 10,
   "metadata": {},
   "outputs": [],
   "source": [
    "operatorMap = {\n",
    "    \"plus\": \"+\",\n",
    "    \"dodać\": \"+\",\n",
    "    \"minus\": \"-\",\n",
    "    \"odjąć\": \"-\",\n",
    "    \"razy\": \"*\",\n",
    "    \"przez\": \"/\",\n",
    "    \"dzielone przez\": \"/\"\n",
    "}"
   ]
  },
  {
   "cell_type": "code",
   "execution_count": 173,
   "metadata": {},
   "outputs": [],
   "source": [
    "def text2int(textnum, numwords={}):\n",
    "    if not numwords:\n",
    "      units = [\n",
    "        \"zero\", \"jeden\", \"dwa\", \"trzy\", \"cztery\", \"pięć\", \"sześć\", \"siedem\", \"osiem\", \"dziewięć\",\n",
    "          \"dziesięć\", \"jedenaście\", \"dwanaście\", \"trzynaście\", \"czternaście\", \"piętnaście\", \"szesnaście\",\n",
    "          \"siedemnaście\", \"osiemnaście\", \"dziewiętnaście\"\n",
    "      ]\n",
    "\n",
    "      tens = [\"\", \"\", \"dwadzieścia\", \"trzydzieści\", \"czterdzieści\", \"pięćdziesiąć\", \"sześćdziesiąt\", \n",
    "              \"siedemdziesiąt\", \"osiemdziesiąt\", \"dziewięćdziesiąt\"]\n",
    "\n",
    "      numwords[\"i\"] = (1, 0)\n",
    "      for idx, word in enumerate(units):    numwords[word] = (1, idx)\n",
    "      for idx, word in enumerate(tens):     numwords[word] = (1, idx * 10)\n",
    "\n",
    "    current = result = 0\n",
    "    for word in textnum.split():\n",
    "        if word not in numwords:\n",
    "          raise Exception(\"Illegal word: \" + word)\n",
    "\n",
    "        scale, increment = numwords[word]\n",
    "        current = current * scale + increment\n",
    "        if scale > 100:\n",
    "            result += current\n",
    "            current = 0\n",
    "\n",
    "    return result + current"
   ]
  },
  {
   "cell_type": "code",
   "execution_count": 174,
   "metadata": {},
   "outputs": [],
   "source": [
    "def valid_text2int(word):\n",
    "    units = [\n",
    "        \"zero\", \"jeden\", \"dwa\", \"trzy\", \"cztery\", \"pięć\", \"sześć\", \"siedem\", \"osiem\", \"dziewięć\",\n",
    "          \"dziesięć\", \"jedenaście\", \"dwanaście\", \"trzynaście\", \"czternaście\", \"piętnaście\", \"szesnaście\",\n",
    "          \"siedemnaście\", \"osiemnaście\", \"dziewiętnaście\"]\n",
    "\n",
    "    tens = [\"\", \"\", \"dwadzieścia\", \"trzydzieści\", \"czterdzieści\", \"pięćdziesiąć\", \"sześćdziesiąt\", \n",
    "            \"siedemdziesiąt\", \"osiemdziesiąt\", \"dziewięćdziesiąt\"]\n",
    "        \n",
    "    if word in units or word in tens:\n",
    "        return True\n",
    "    else:\n",
    "        return False"
   ]
  },
  {
   "cell_type": "code",
   "execution_count": 180,
   "metadata": {},
   "outputs": [],
   "source": [
    "def expression2int(expression):\n",
    "    expressionWithInts = \"\"\n",
    "    partitionedExpression = expression.split(\" \")\n",
    "    i = 0 \n",
    "    \n",
    "    while i < len(partitionedExpression):\n",
    "        if(valid_text2int(partitionedExpression[i])):\n",
    "            numberToConvert = \"\"\n",
    "            while i<len(partitionedExpression) and validText2Int(partitionedExpression[i]):\n",
    "                numberToConvert += partitionedExpression[i]\n",
    "                numberToConvert += \" \"\n",
    "                i += 1\n",
    "            expressionWithInts += str(text2int(numberToConvert))\n",
    "            i -= 1\n",
    "        else:\n",
    "            expressionWithInts += partitionedExpression[i]\n",
    "            \n",
    "        expressionWithInts += \" \"\n",
    "        i += 1\n",
    "        \n",
    "    return expressionWithInts"
   ]
  },
  {
   "cell_type": "code",
   "execution_count": 11,
   "metadata": {},
   "outputs": [],
   "source": [
    "def process(e):\n",
    "    if e in ['+', '-', '*', '/']:\n",
    "        return e\n",
    "    if e.isdigit():\n",
    "        return e\n",
    "    if e in operatorMap.keys():\n",
    "        return operatorMap.get(e)\n",
    "    else:\n",
    "        return ''"
   ]
  },
  {
   "cell_type": "code",
   "execution_count": 12,
   "metadata": {},
   "outputs": [],
   "source": [
    "def debugEvaluate(e):\n",
    "    result = ''\n",
    "    print('evaluate:', e)\n",
    "    for subexpression in e:\n",
    "        if type(subexpression) is not str:\n",
    "            partial = debugEvaluate(subexpression)\n",
    "            result += partial\n",
    "        else:\n",
    "            result += process(subexpression)\n",
    "    print('result:', result)\n",
    "    return result\n",
    "\n",
    "def evaluate(e):\n",
    "    result = ''\n",
    "    for subexpression in e:\n",
    "        if type(subexpression) is not str:\n",
    "            partial = evaluate(subexpression)\n",
    "            result += partial\n",
    "        else:\n",
    "            result += process(subexpression)\n",
    "    return result"
   ]
  },
  {
   "cell_type": "code",
   "execution_count": 13,
   "metadata": {},
   "outputs": [
    {
     "name": "stdout",
     "output_type": "stream",
     "text": [
      "[ 'policz',\n",
      "  [ 'proszę',\n",
      "    [ [ '5',\n",
      "        'razy',\n",
      "        '3'],\n",
      "      [ 'i',\n",
      "        [ 'dodać',\n",
      "          [ '88',\n",
      "            'razy']]],\n",
      "      '2']]]\n"
     ]
    }
   ],
   "source": [
    "expression = 'policz proszę 5 razy 3 i dodać 88 razy 2'\n",
    "parsedExpression = parse(GRAMMAR, expression)\n",
    "pprint.pprint(parsedExpression, indent=2, width=20)"
   ]
  },
  {
   "cell_type": "code",
   "execution_count": 14,
   "metadata": {},
   "outputs": [
    {
     "name": "stdout",
     "output_type": "stream",
     "text": [
      "evaluate: ['policz', ['proszę', [['5', 'razy', '3'], ['i', ['dodać', ['88', 'razy']]], '2']]]\n",
      "evaluate: ['proszę', [['5', 'razy', '3'], ['i', ['dodać', ['88', 'razy']]], '2']]\n",
      "evaluate: [['5', 'razy', '3'], ['i', ['dodać', ['88', 'razy']]], '2']\n",
      "evaluate: ['5', 'razy', '3']\n",
      "result: 5*3\n",
      "evaluate: ['i', ['dodać', ['88', 'razy']]]\n",
      "evaluate: ['dodać', ['88', 'razy']]\n",
      "evaluate: ['88', 'razy']\n",
      "result: 88*\n",
      "result: +88*\n",
      "result: +88*\n",
      "result: 5*3+88*2\n",
      "result: 5*3+88*2\n",
      "result: 5*3+88*2\n"
     ]
    }
   ],
   "source": [
    "evaluatedExpression = debugEvaluate(parsedExpression)"
   ]
  },
  {
   "cell_type": "code",
   "execution_count": 15,
   "metadata": {},
   "outputs": [
    {
     "name": "stdout",
     "output_type": "stream",
     "text": [
      "5*3+88*2\n"
     ]
    }
   ],
   "source": [
    "print(evaluatedExpression)"
   ]
  },
  {
   "cell_type": "code",
   "execution_count": 16,
   "metadata": {},
   "outputs": [
    {
     "data": {
      "text/plain": [
       "191"
      ]
     },
     "execution_count": 16,
     "metadata": {},
     "output_type": "execute_result"
    }
   ],
   "source": [
    "eval(evaluatedExpression)"
   ]
  },
  {
   "cell_type": "code",
   "execution_count": 184,
   "metadata": {},
   "outputs": [],
   "source": [
    "def calculate(expression):\n",
    "    expression = expression2int(expression)\n",
    "    parsedExpression = parse(GRAMMAR, expression)\n",
    "    evaluatedExpression = evaluate(parsedExpression)\n",
    "    result = eval(evaluatedExpression)\n",
    "    return result"
   ]
  },
  {
   "cell_type": "code",
   "execution_count": 200,
   "metadata": {},
   "outputs": [],
   "source": [
    "testSentences = [\n",
    "    'policz proszę pięć razy trzy i dodać osiemdziesiąt osiem razy dwa',\n",
    "    'ile jest dwa plus dwa razy dwa',\n",
    "    'ile jest dziesięć plus sześć przez dwa',\n",
    "    'dwa razy trzy',\n",
    "    'dwa plus dwa dodać dwa',\n",
    "    'dwa plus dwa',\n",
    "    'dziesięć przez dwa',\n",
    "    'weź mnie policz trzy razy sześć przez dwa dodać osiem razy pięć'\n",
    "]"
   ]
  },
  {
   "cell_type": "code",
   "execution_count": 201,
   "metadata": {},
   "outputs": [],
   "source": [
    "result = [[sentence, calculate(sentence)] for sentence in testSentences]"
   ]
  },
  {
   "cell_type": "code",
   "execution_count": 202,
   "metadata": {},
   "outputs": [
    {
     "data": {
      "text/html": [
       "<table>\n",
       "<thead>\n",
       "<tr><th>Sentence                                                         </th><th style=\"text-align: right;\">  Evaluation</th></tr>\n",
       "</thead>\n",
       "<tbody>\n",
       "<tr><td>policz proszę pięć razy trzy i dodać osiemdziesiąt osiem razy dwa</td><td style=\"text-align: right;\">         191</td></tr>\n",
       "<tr><td>ile jest dwa plus dwa razy dwa                                   </td><td style=\"text-align: right;\">           6</td></tr>\n",
       "<tr><td>ile jest dziesięć plus sześć przez dwa                           </td><td style=\"text-align: right;\">          13</td></tr>\n",
       "<tr><td>dwa razy trzy                                                    </td><td style=\"text-align: right;\">           6</td></tr>\n",
       "<tr><td>dwa plus dwa dodać dwa                                           </td><td style=\"text-align: right;\">           6</td></tr>\n",
       "<tr><td>dwa plus dwa                                                     </td><td style=\"text-align: right;\">           4</td></tr>\n",
       "<tr><td>dziesięć przez dwa                                               </td><td style=\"text-align: right;\">           5</td></tr>\n",
       "<tr><td>weź mnie policz trzy razy sześć przez dwa dodać osiem razy pięć  </td><td style=\"text-align: right;\">          49</td></tr>\n",
       "</tbody>\n",
       "</table>"
      ],
      "text/plain": [
       "<IPython.core.display.HTML object>"
      ]
     },
     "metadata": {},
     "output_type": "display_data"
    }
   ],
   "source": [
    "display(HTML(tabulate(result, tablefmt='html', headers=[\"Sentence\", \"Evaluation\"])))"
   ]
  },
  {
   "cell_type": "code",
   "execution_count": null,
   "metadata": {},
   "outputs": [],
   "source": []
  }
 ],
 "metadata": {
  "kernelspec": {
   "display_name": "Python 3",
   "language": "python",
   "name": "python3"
  },
  "language_info": {
   "codemirror_mode": {
    "name": "ipython",
    "version": 3
   },
   "file_extension": ".py",
   "mimetype": "text/x-python",
   "name": "python",
   "nbconvert_exporter": "python",
   "pygments_lexer": "ipython3",
   "version": "3.6.4"
  }
 },
 "nbformat": 4,
 "nbformat_minor": 2
}
