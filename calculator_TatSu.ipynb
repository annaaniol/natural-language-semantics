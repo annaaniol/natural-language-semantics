{
 "cells": [
  {
   "cell_type": "code",
   "execution_count": 1,
   "metadata": {
    "collapsed": false
   },
   "outputs": [],
   "source": [
    "import pprint\n",
    "from tatsu import parse\n",
    "from tabulate import tabulate\n",
    "from IPython.display import HTML, display"
   ]
  },
  {
   "cell_type": "code",
   "execution_count": 2,
   "metadata": {
    "collapsed": true
   },
   "outputs": [],
   "source": [
    "GRAMMAR = '''\n",
    "    start = expression $ ;\n",
    "    \n",
    "    trash = /\\w+/;\n",
    "\n",
    "    number \n",
    "        = /\\d+/ \n",
    "        ;\n",
    "        \n",
    "    factor\n",
    "        = number\n",
    "        ;\n",
    "\n",
    "    expression\n",
    "        =\n",
    "        | expression expOperator term\n",
    "        | trash term\n",
    "        | trash expression\n",
    "        ;\n",
    "    \n",
    "    term\n",
    "        =\n",
    "        | term termOperator factor\n",
    "        | factor\n",
    "        ;\n",
    "\n",
    "    expOperator\n",
    "        =\n",
    "        | plusOperator\n",
    "        | minusOperator\n",
    "        | trash expOperator\n",
    "        ;\n",
    "        \n",
    "    termOperator\n",
    "        =\n",
    "        | multiplicationOperator\n",
    "        | divisionOperator\n",
    "        | trash termOperator\n",
    "        ;\n",
    "        \n",
    "    plusOperator\n",
    "        =\n",
    "        | 'plus'\n",
    "        | 'dodać'\n",
    "        ;\n",
    "    \n",
    "    minusOperator\n",
    "        =\n",
    "        | 'minus'\n",
    "        | 'odjąć'\n",
    "        ;\n",
    "        \n",
    "    multiplicationOperator\n",
    "        = 'razy'\n",
    "        ;\n",
    "    \n",
    "    divisionOperator\n",
    "        =\n",
    "        | 'przez'\n",
    "        | 'dzielone przez'\n",
    "        | 'nad'\n",
    "        ;\n",
    "        \n",
    "'''"
   ]
  },
  {
   "cell_type": "code",
   "execution_count": 3,
   "metadata": {
    "collapsed": true
   },
   "outputs": [],
   "source": [
    "operatorMap = {\n",
    "    \"plus\": \"+\",\n",
    "    \"dodać\": \"+\",\n",
    "    \"minus\": \"-\",\n",
    "    \"odjąć\": \"-\",\n",
    "    \"razy\": \"*\",\n",
    "    \"przez\": \"/\",\n",
    "    \"dzielone przez\": \"/\"\n",
    "}"
   ]
  },
  {
   "cell_type": "code",
   "execution_count": 4,
   "metadata": {
    "collapsed": true
   },
   "outputs": [],
   "source": [
    "def process(e):\n",
    "    if e in ['+', '-', '*', '/']:\n",
    "        return e\n",
    "    if e.isdigit():\n",
    "        return e\n",
    "    if e in operatorMap.keys():\n",
    "        return operatorMap.get(e)\n",
    "    else:\n",
    "        return ''"
   ]
  },
  {
   "cell_type": "code",
   "execution_count": 5,
   "metadata": {
    "collapsed": false
   },
   "outputs": [],
   "source": [
    "def debugEvaluate(e):\n",
    "    result = ''\n",
    "    print('evaluate:', e)\n",
    "    for subexpression in e:\n",
    "        if type(subexpression) is not str:\n",
    "            partial = debugEvaluate(subexpression)\n",
    "            result += partial\n",
    "        else:\n",
    "            result += process(subexpression)\n",
    "    print('result:', result)\n",
    "    return result\n",
    "\n",
    "def evaluate(e):\n",
    "    result = ''\n",
    "    for subexpression in e:\n",
    "        if type(subexpression) is not str:\n",
    "            partial = evaluate(subexpression)\n",
    "            result += partial\n",
    "        else:\n",
    "            result += process(subexpression)\n",
    "    return result"
   ]
  },
  {
   "cell_type": "code",
   "execution_count": 6,
   "metadata": {
    "collapsed": false
   },
   "outputs": [
    {
     "name": "stdout",
     "output_type": "stream",
     "text": [
      "[ 'policz',\n",
      "  [ 'proszę',\n",
      "    [ [ '5',\n",
      "        'razy',\n",
      "        '3'],\n",
      "      [ 'i',\n",
      "        [ 'dodać',\n",
      "          [ '88',\n",
      "            'razy']]],\n",
      "      '2']]]\n"
     ]
    }
   ],
   "source": [
    "expression = 'policz proszę 5 razy 3 i dodać 88 razy 2'\n",
    "parsedExpression = parse(GRAMMAR, expression)\n",
    "pprint.pprint(parsedExpression, indent=2, width=20)"
   ]
  },
  {
   "cell_type": "code",
   "execution_count": 7,
   "metadata": {
    "collapsed": false
   },
   "outputs": [
    {
     "name": "stdout",
     "output_type": "stream",
     "text": [
      "evaluate: ['policz', ['proszę', [['5', 'razy', '3'], ['i', ['dodać', ['88', 'razy']]], '2']]]\n",
      "evaluate: ['proszę', [['5', 'razy', '3'], ['i', ['dodać', ['88', 'razy']]], '2']]\n",
      "evaluate: [['5', 'razy', '3'], ['i', ['dodać', ['88', 'razy']]], '2']\n",
      "evaluate: ['5', 'razy', '3']\n",
      "result: 5*3\n",
      "evaluate: ['i', ['dodać', ['88', 'razy']]]\n",
      "evaluate: ['dodać', ['88', 'razy']]\n",
      "evaluate: ['88', 'razy']\n",
      "result: 88*\n",
      "result: +88*\n",
      "result: +88*\n",
      "result: 5*3+88*2\n",
      "result: 5*3+88*2\n",
      "result: 5*3+88*2\n"
     ]
    }
   ],
   "source": [
    "evaluatedExpression = debugEvaluate(parsedExpression)"
   ]
  },
  {
   "cell_type": "code",
   "execution_count": 8,
   "metadata": {
    "collapsed": false
   },
   "outputs": [
    {
     "name": "stdout",
     "output_type": "stream",
     "text": [
      "5*3+88*2\n"
     ]
    }
   ],
   "source": [
    "print(evaluatedExpression)"
   ]
  },
  {
   "cell_type": "code",
   "execution_count": 9,
   "metadata": {
    "collapsed": false
   },
   "outputs": [
    {
     "data": {
      "text/plain": [
       "191"
      ]
     },
     "execution_count": 9,
     "metadata": {},
     "output_type": "execute_result"
    }
   ],
   "source": [
    "eval(evaluatedExpression)"
   ]
  },
  {
   "cell_type": "code",
   "execution_count": 10,
   "metadata": {
    "collapsed": true
   },
   "outputs": [],
   "source": [
    "def calculate(expression):\n",
    "    parsedExpression = parse(GRAMMAR, expression)\n",
    "    evaluatedExpression = evaluate(parsedExpression)\n",
    "    result = eval(evaluatedExpression)\n",
    "    return result"
   ]
  },
  {
   "cell_type": "code",
   "execution_count": 11,
   "metadata": {
    "collapsed": true
   },
   "outputs": [],
   "source": [
    "testSentences = [\n",
    "    'policz proszę 5 razy 3 i dodać 88 razy 2',\n",
    "    'ile jest 2 plus 2 razy 2',\n",
    "    'ile jest 10 plus 6 przez 2',\n",
    "    '2 razy 3',\n",
    "    '2 plus 2 dodać 2',\n",
    "    '2 plus 2',\n",
    "    '10 przez 2',\n",
    "    'weź mnie policz 3 razy 6 przez 2 dodać 8 razy 5'\n",
    "]"
   ]
  },
  {
   "cell_type": "code",
   "execution_count": 12,
   "metadata": {
    "collapsed": false
   },
   "outputs": [],
   "source": [
    "result = [[sentence, calculate(sentence)] for sentence in testSentences]"
   ]
  },
  {
   "cell_type": "code",
   "execution_count": 13,
   "metadata": {
    "collapsed": false
   },
   "outputs": [
    {
     "data": {
      "text/html": [
       "<table>\n",
       "<thead>\n",
       "<tr><th>Sentence                                       </th><th style=\"text-align: right;\">  Evaluation</th></tr>\n",
       "</thead>\n",
       "<tbody>\n",
       "<tr><td>policz proszę 5 razy 3 i dodać 88 razy 2       </td><td style=\"text-align: right;\">         191</td></tr>\n",
       "<tr><td>ile jest 2 plus 2 razy 2                       </td><td style=\"text-align: right;\">           6</td></tr>\n",
       "<tr><td>ile jest 10 plus 6 przez 2                     </td><td style=\"text-align: right;\">          13</td></tr>\n",
       "<tr><td>2 razy 3                                       </td><td style=\"text-align: right;\">           6</td></tr>\n",
       "<tr><td>2 plus 2 dodać 2                               </td><td style=\"text-align: right;\">           6</td></tr>\n",
       "<tr><td>2 plus 2                                       </td><td style=\"text-align: right;\">           4</td></tr>\n",
       "<tr><td>10 przez 2                                     </td><td style=\"text-align: right;\">           5</td></tr>\n",
       "<tr><td>weź mnie policz 3 razy 6 przez 2 dodać 8 razy 5</td><td style=\"text-align: right;\">          49</td></tr>\n",
       "</tbody>\n",
       "</table>"
      ],
      "text/plain": [
       "<IPython.core.display.HTML object>"
      ]
     },
     "metadata": {},
     "output_type": "display_data"
    }
   ],
   "source": [
    "display(HTML(tabulate(result, tablefmt='html', headers=[\"Sentence\", \"Evaluation\"])))"
   ]
  }
 ],
 "metadata": {
  "kernelspec": {
   "display_name": "Python 3",
   "language": "python",
   "name": "python3"
  },
  "language_info": {
   "codemirror_mode": {
    "name": "ipython",
    "version": 3
   },
   "file_extension": ".py",
   "mimetype": "text/x-python",
   "name": "python",
   "nbconvert_exporter": "python",
   "pygments_lexer": "ipython3",
   "version": "3.6.4"
  }
 },
 "nbformat": 4,
 "nbformat_minor": 2
}
